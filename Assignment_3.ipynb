{
  "nbformat": 4,
  "nbformat_minor": 0,
  "metadata": {
    "colab": {
      "name": "Assignment 3.ipynb",
      "provenance": [],
      "collapsed_sections": [],
      "include_colab_link": true
    },
    "kernelspec": {
      "name": "python3",
      "display_name": "Python 3"
    },
    "accelerator": "GPU"
  },
  "cells": [
    {
      "cell_type": "markdown",
      "metadata": {
        "id": "view-in-github",
        "colab_type": "text"
      },
      "source": [
        "<a href=\"https://colab.research.google.com/github/AsmatZahra/CS867F19/blob/master/Assignment_3.ipynb\" target=\"_parent\"><img src=\"https://colab.research.google.com/assets/colab-badge.svg\" alt=\"Open In Colab\"/></a>"
      ]
    },
    {
      "cell_type": "code",
      "metadata": {
        "id": "-afCvw0b9w6F",
        "colab_type": "code",
        "outputId": "abf5a741-3424-4c70-bb01-406660ef9bc4",
        "colab": {
          "base_uri": "https://localhost:8080/",
          "height": 129
        }
      },
      "source": [
        "from google.colab import drive\n",
        "drive.mount('/content/drive')"
      ],
      "execution_count": 0,
      "outputs": [
        {
          "output_type": "stream",
          "text": [
            "Go to this URL in a browser: https://accounts.google.com/o/oauth2/auth?client_id=947318989803-6bn6qk8qdgf4n4g3pfee6491hc0brc4i.apps.googleusercontent.com&redirect_uri=urn%3aietf%3awg%3aoauth%3a2.0%3aoob&response_type=code&scope=email%20https%3a%2f%2fwww.googleapis.com%2fauth%2fdocs.test%20https%3a%2f%2fwww.googleapis.com%2fauth%2fdrive%20https%3a%2f%2fwww.googleapis.com%2fauth%2fdrive.photos.readonly%20https%3a%2f%2fwww.googleapis.com%2fauth%2fpeopleapi.readonly\n",
            "\n",
            "Enter your authorization code:\n",
            "··········\n",
            "Mounted at /content/drive\n"
          ],
          "name": "stdout"
        }
      ]
    },
    {
      "cell_type": "code",
      "metadata": {
        "id": "Al5E-2ryBPWw",
        "colab_type": "code",
        "outputId": "0de7e932-8e37-4c2d-d012-d5ca2926d655",
        "colab": {
          "base_uri": "https://localhost:8080/",
          "height": 35
        }
      },
      "source": [
        "%cd /content/drive/My Drive/Colab Notebooks"
      ],
      "execution_count": 9,
      "outputs": [
        {
          "output_type": "stream",
          "text": [
            "/content/drive/My Drive/Colab Notebooks\n"
          ],
          "name": "stdout"
        }
      ]
    },
    {
      "cell_type": "code",
      "metadata": {
        "id": "NEeEPtU_93Eb",
        "colab_type": "code",
        "outputId": "7804c5a8-2e8f-4bf1-8dc6-ee5f6f1d3f24",
        "colab": {
          "base_uri": "https://localhost:8080/",
          "height": 127
        }
      },
      "source": [
        "! ls"
      ],
      "execution_count": 10,
      "outputs": [
        {
          "output_type": "stream",
          "text": [
            " 5.1-introduction-to-convnets.ipynb\n",
            " 5.2-using-convnets-with-small-datasets.ipynb\n",
            "'Assignment 3.ipynb'\n",
            "'Copy of Assignment 3.ipynb'\n",
            " cvassignmentdataset\n",
            " Cyclone_Wildfire_Flood_Earthquake_Database.h5\n"
          ],
          "name": "stdout"
        }
      ]
    },
    {
      "cell_type": "code",
      "metadata": {
        "id": "gLhoBm0Lsc_9",
        "colab_type": "code",
        "outputId": "47afa62e-b6d8-4e17-adf2-d0bc98edb95b",
        "colab": {
          "base_uri": "https://localhost:8080/",
          "height": 35
        }
      },
      "source": [
        "!git clone https://github.com/engrhamzaaliimran/cvassignmentdataset.git"
      ],
      "execution_count": 11,
      "outputs": [
        {
          "output_type": "stream",
          "text": [
            "fatal: destination path 'cvassignmentdataset' already exists and is not an empty directory.\n"
          ],
          "name": "stdout"
        }
      ]
    },
    {
      "cell_type": "code",
      "metadata": {
        "id": "xq8CgdmFpDcr",
        "colab_type": "code",
        "colab": {}
      },
      "source": [
        "import os, shutil"
      ],
      "execution_count": 0,
      "outputs": []
    },
    {
      "cell_type": "code",
      "metadata": {
        "id": "XmHiN4jORFHt",
        "colab_type": "code",
        "colab": {
          "base_uri": "https://localhost:8080/",
          "height": 229
        },
        "outputId": "4af863ed-8b28-4d6d-b2df-90dc1676aee6"
      },
      "source": [
        "original_dataset_dir = '/content/drive/My Drive/Colab Notebooks/cvassignmentdataset/Cyclone_Wildfire_Flood_Earthquake_Database'\n",
        "base_dir= '/content/drive/My Drive/Colab Notebooks/cvassignmentdataset/Cyclone_Wildfire_Flood_Earthquake_Database/small_dataset'\n",
        "os.mkdir(base_dir)"
      ],
      "execution_count": 20,
      "outputs": [
        {
          "output_type": "error",
          "ename": "FileExistsError",
          "evalue": "ignored",
          "traceback": [
            "\u001b[0;31m---------------------------------------------------------------------------\u001b[0m",
            "\u001b[0;31mFileExistsError\u001b[0m                           Traceback (most recent call last)",
            "\u001b[0;32m<ipython-input-20-3ce11970682a>\u001b[0m in \u001b[0;36m<module>\u001b[0;34m()\u001b[0m\n\u001b[1;32m      1\u001b[0m \u001b[0moriginal_dataset_dir\u001b[0m \u001b[0;34m=\u001b[0m \u001b[0;34m'/content/drive/My Drive/Colab Notebooks/cvassignmentdataset/Cyclone_Wildfire_Flood_Earthquake_Database'\u001b[0m\u001b[0;34m\u001b[0m\u001b[0;34m\u001b[0m\u001b[0m\n\u001b[1;32m      2\u001b[0m \u001b[0mbase_dir\u001b[0m\u001b[0;34m=\u001b[0m \u001b[0;34m'/content/drive/My Drive/Colab Notebooks/cvassignmentdataset/Cyclone_Wildfire_Flood_Earthquake_Database/small_dataset'\u001b[0m\u001b[0;34m\u001b[0m\u001b[0;34m\u001b[0m\u001b[0m\n\u001b[0;32m----> 3\u001b[0;31m \u001b[0mos\u001b[0m\u001b[0;34m.\u001b[0m\u001b[0mmkdir\u001b[0m\u001b[0;34m(\u001b[0m\u001b[0mbase_dir\u001b[0m\u001b[0;34m)\u001b[0m\u001b[0;34m\u001b[0m\u001b[0;34m\u001b[0m\u001b[0m\n\u001b[0m",
            "\u001b[0;31mFileExistsError\u001b[0m: [Errno 17] File exists: '/content/drive/My Drive/Colab Notebooks/cvassignmentdataset/Cyclone_Wildfire_Flood_Earthquake_Database/small_dataset'"
          ]
        }
      ]
    },
    {
      "cell_type": "code",
      "metadata": {
        "id": "GY32g6jaReWT",
        "colab_type": "code",
        "colab": {}
      },
      "source": [
        "train_dir= os.path.join (base_dir, 'train')"
      ],
      "execution_count": 0,
      "outputs": []
    },
    {
      "cell_type": "code",
      "metadata": {
        "id": "gO8iPzTSSrCD",
        "colab_type": "code",
        "colab": {}
      },
      "source": [
        "os.mkdir(train_dir)"
      ],
      "execution_count": 0,
      "outputs": []
    },
    {
      "cell_type": "code",
      "metadata": {
        "id": "PiB71CEYS4mb",
        "colab_type": "code",
        "colab": {}
      },
      "source": [
        "validation_dir= os.path.join (base_dir, 'validation')"
      ],
      "execution_count": 0,
      "outputs": []
    },
    {
      "cell_type": "code",
      "metadata": {
        "id": "J3ncJ1BDTCOa",
        "colab_type": "code",
        "colab": {}
      },
      "source": [
        "os.mkdir(validation_dir)"
      ],
      "execution_count": 0,
      "outputs": []
    },
    {
      "cell_type": "code",
      "metadata": {
        "id": "lFfvzM1ATISa",
        "colab_type": "code",
        "colab": {}
      },
      "source": [
        "test_dir= os.path.join(base_dir, 'test')"
      ],
      "execution_count": 0,
      "outputs": []
    },
    {
      "cell_type": "code",
      "metadata": {
        "id": "U5GYj1nbTQTJ",
        "colab_type": "code",
        "colab": {}
      },
      "source": [
        "os.mkdir(test_dir)"
      ],
      "execution_count": 0,
      "outputs": []
    },
    {
      "cell_type": "markdown",
      "metadata": {
        "id": "3_Jz1_10TXBV",
        "colab_type": "text"
      },
      "source": [
        "For each class make separate train test folder"
      ]
    },
    {
      "cell_type": "code",
      "metadata": {
        "id": "TDRNm5FjTURx",
        "colab_type": "code",
        "colab": {}
      },
      "source": [
        "train_cyclone_dir= os.path.join(train_dir, 'cyclone')"
      ],
      "execution_count": 0,
      "outputs": []
    },
    {
      "cell_type": "code",
      "metadata": {
        "id": "S7JTqQL3T5KC",
        "colab_type": "code",
        "colab": {}
      },
      "source": [
        "os.mkdir(train_cyclone_dir)"
      ],
      "execution_count": 0,
      "outputs": []
    },
    {
      "cell_type": "code",
      "metadata": {
        "id": "EhXiZrRAT9y6",
        "colab_type": "code",
        "colab": {}
      },
      "source": [
        "train_earthquack_dir= os.path.join(train_dir, 'earthquack')\n",
        "os.mkdir(train_earthquack_dir)\n",
        "train_flood_dir= os.path.join(train_dir, 'flood')\n",
        "os.mkdir(train_flood_dir)\n",
        "train_wildfire_dir= os.path.join(train_dir, 'wildfire')\n",
        "os.mkdir(train_wildfire_dir)"
      ],
      "execution_count": 0,
      "outputs": []
    },
    {
      "cell_type": "code",
      "metadata": {
        "id": "6AWmAF5pUfbq",
        "colab_type": "code",
        "colab": {}
      },
      "source": [
        "validation_cyclone_dir= os.path.join(validation_dir, 'cyclone')\n",
        "os.mkdir(validation_cyclone_dir)\n",
        "validation_earthquack_dir= os.path.join(validation_dir, 'earthquack')\n",
        "os.mkdir(validation_earthquack_dir)\n",
        "validation_flood_dir= os.path.join(validation_dir, 'flood')\n",
        "os.mkdir(validation_flood_dir)\n",
        "validation_wildfire_dir= os.path.join(validation_dir, 'wildfire')\n",
        "os.mkdir(validation_wildfire_dir)"
      ],
      "execution_count": 0,
      "outputs": []
    },
    {
      "cell_type": "code",
      "metadata": {
        "id": "9te5I-O3VOox",
        "colab_type": "code",
        "colab": {}
      },
      "source": [
        "test_cyclone_dir= os.path.join(test_dir, 'cyclone')\n",
        "os.mkdir(test_cyclone_dir)\n",
        "test_earthquack_dir= os.path.join(test_dir, 'earthquack')\n",
        "os.mkdir(test_earthquack_dir)\n",
        "test_flood_dir= os.path.join(test_dir, 'flood')\n",
        "os.mkdir(test_flood_dir)\n",
        "test_wildfire_dir= os.path.join(test_dir, 'wildfire')\n",
        "os.mkdir(test_wildfire_dir)"
      ],
      "execution_count": 0,
      "outputs": []
    },
    {
      "cell_type": "markdown",
      "metadata": {
        "id": "qfuwEI-9apvO",
        "colab_type": "text"
      },
      "source": [
        "creating train dataset for each class\n"
      ]
    },
    {
      "cell_type": "code",
      "metadata": {
        "id": "E4jjacGiVtSF",
        "colab_type": "code",
        "colab": {}
      },
      "source": [
        "original_dataset_dir_cyclone = '/content/drive/My Drive/Colab Notebooks/cvassignmentdataset/Cyclone_Wildfire_Flood_Earthquake_Database/Cyclone'\n",
        "\n",
        "# Copy first 1000 cyclone images to train_cyclone_dir\n",
        "fnames = ['{}.jpg'.format(i) for i in range(500)]\n",
        "for fname in fnames:\n",
        "    src = os.path.join(original_dataset_dir_cyclone, fname)\n",
        "    dst = os.path.join(train_cyclone_dir, fname)\n",
        "    shutil.copyfile(src, dst)"
      ],
      "execution_count": 0,
      "outputs": []
    },
    {
      "cell_type": "code",
      "metadata": {
        "id": "9eCWtk4kYA4B",
        "colab_type": "code",
        "colab": {}
      },
      "source": [
        "original_dataset_dir_earthquack = '/content/drive/My Drive/Colab Notebooks/cvassignmentdataset/Cyclone_Wildfire_Flood_Earthquake_Database/Earthquake'\n",
        "\n",
        "# Copy first 1000 earthquack images to train_earthquack_dir\n",
        "fnames = ['{}.jpg'.format(i) for i in range(500)]\n",
        "for fname in fnames:\n",
        "    src = os.path.join(original_dataset_dir_earthquack, fname)\n",
        "    dst = os.path.join(train_earthquack_dir, fname)\n",
        "    shutil.copyfile(src, dst)"
      ],
      "execution_count": 0,
      "outputs": []
    },
    {
      "cell_type": "code",
      "metadata": {
        "id": "v-w8HVoxWwOh",
        "colab_type": "code",
        "colab": {}
      },
      "source": [
        "original_dataset_dir_flood = '/content/drive/My Drive/Colab Notebooks/cvassignmentdataset/Cyclone_Wildfire_Flood_Earthquake_Database/Flood'\n",
        "\n",
        "# Copy first 1000 flood images to train_flood_dir\n",
        "fnames = ['{}.jpg'.format(i) for i in range(500)]\n",
        "for fname in fnames:\n",
        "    src = os.path.join(original_dataset_dir_flood, fname)\n",
        "    dst = os.path.join(train_flood_dir, fname)\n",
        "    shutil.copyfile(src, dst)\n"
      ],
      "execution_count": 0,
      "outputs": []
    },
    {
      "cell_type": "code",
      "metadata": {
        "id": "CLWuZn8uaBX2",
        "colab_type": "code",
        "colab": {}
      },
      "source": [
        "original_dataset_dir_wildfire = '/content/drive/My Drive/Colab Notebooks/cvassignmentdataset/Cyclone_Wildfire_Flood_Earthquake_Database/Wildfire'\n",
        "# Copy first 1000 wildfire images to train_wildfire_dir\n",
        "fnames = ['{}.jpg'.format(i) for i in range(500)]\n",
        "for fname in fnames:\n",
        "    src = os.path.join(original_dataset_dir_wildfire, fname)\n",
        "    dst = os.path.join(train_wildfire_dir, fname)\n",
        "    shutil.copyfile(src, dst)"
      ],
      "execution_count": 0,
      "outputs": []
    },
    {
      "cell_type": "markdown",
      "metadata": {
        "id": "MtldGSKWafo-",
        "colab_type": "text"
      },
      "source": [
        "creating validation dataset for each class\n",
        "\n",
        "```\n",
        "# This is formatted as code\n",
        "```\n",
        "\n"
      ]
    },
    {
      "cell_type": "code",
      "metadata": {
        "id": "2qIS9hBialGu",
        "colab_type": "code",
        "colab": {}
      },
      "source": [
        "original_dataset_dir_cyclone = '/content/drive/My Drive/Colab Notebooks/cvassignmentdataset/Cyclone_Wildfire_Flood_Earthquake_Database/Cyclone'\n",
        "\n",
        "# Copy 500-700 cyclone images to validation_cyclone_dir\n",
        "fnames = ['{}.jpg'.format(i) for i in range(500,700)]\n",
        "for fname in fnames:\n",
        "    src = os.path.join(original_dataset_dir_cyclone, fname)\n",
        "    dst = os.path.join(validation_cyclone_dir, fname)\n",
        "    shutil.copyfile(src, dst)"
      ],
      "execution_count": 0,
      "outputs": []
    },
    {
      "cell_type": "code",
      "metadata": {
        "id": "TlntXDMMb8_D",
        "colab_type": "code",
        "colab": {}
      },
      "source": [
        "original_dataset_dir_earthquack = '/content/drive/My Drive/Colab Notebooks/cvassignmentdataset/Cyclone_Wildfire_Flood_Earthquake_Database/Earthquake'\n",
        "\n",
        "# Copy 500-700 cyclone images to validation_earthquack_dir\n",
        "fnames = ['{}.jpg'.format(i) for i in range(500,700)]\n",
        "for fname in fnames:\n",
        "    src = os.path.join(original_dataset_dir_earthquack, fname)\n",
        "    dst = os.path.join(validation_earthquack_dir, fname)\n",
        "    shutil.copyfile(src, dst)"
      ],
      "execution_count": 0,
      "outputs": []
    },
    {
      "cell_type": "code",
      "metadata": {
        "id": "CGiaKDjice9-",
        "colab_type": "code",
        "colab": {}
      },
      "source": [
        "original_dataset_dir_flood = '/content/drive/My Drive/Colab Notebooks/cvassignmentdataset/Cyclone_Wildfire_Flood_Earthquake_Database/Flood'\n",
        "\n",
        "# Copy first 1000 flood images to validation_flood_dir\n",
        "fnames = ['{}.jpg'.format(i) for i in range(500, 700)]\n",
        "for fname in fnames:\n",
        "    src = os.path.join(original_dataset_dir_flood, fname)\n",
        "    dst = os.path.join(validation_flood_dir, fname)\n",
        "    shutil.copyfile(src, dst)"
      ],
      "execution_count": 0,
      "outputs": []
    },
    {
      "cell_type": "code",
      "metadata": {
        "id": "jSTTMO8Bc1pq",
        "colab_type": "code",
        "colab": {}
      },
      "source": [
        "original_dataset_dir_wildfire = '/content/drive/My Drive/Colab Notebooks/cvassignmentdataset/Cyclone_Wildfire_Flood_Earthquake_Database/Wildfire'\n",
        "# Copy first 1000 wildfire images to validation_wildfire_dir\n",
        "fnames = ['{}.jpg'.format(i) for i in range(500, 700)]\n",
        "for fname in fnames:\n",
        "    src = os.path.join(original_dataset_dir_wildfire, fname)\n",
        "    dst = os.path.join(validation_wildfire_dir, fname)\n",
        "    shutil.copyfile(src, dst)"
      ],
      "execution_count": 0,
      "outputs": []
    },
    {
      "cell_type": "markdown",
      "metadata": {
        "id": "EwVWy5h7dCDc",
        "colab_type": "text"
      },
      "source": [
        "creating testing dataset for each class"
      ]
    },
    {
      "cell_type": "code",
      "metadata": {
        "id": "-ex0xjeWdH-L",
        "colab_type": "code",
        "colab": {}
      },
      "source": [
        "original_dataset_dir_cyclone = '/content/drive/My Drive/Colab Notebooks/cvassignmentdataset/Cyclone_Wildfire_Flood_Earthquake_Database/Cyclone'\n",
        "\n",
        "# Copy 700-900 cyclone images to test_cyclone_dir\n",
        "fnames = ['{}.jpg'.format(i) for i in range(700,900)]\n",
        "for fname in fnames:\n",
        "    src = os.path.join(original_dataset_dir_cyclone, fname)\n",
        "    dst = os.path.join(test_cyclone_dir, fname)\n",
        "    shutil.copyfile(src, dst)"
      ],
      "execution_count": 0,
      "outputs": []
    },
    {
      "cell_type": "code",
      "metadata": {
        "id": "O6OXzMPidaKP",
        "colab_type": "code",
        "colab": {}
      },
      "source": [
        "original_dataset_dir_earthquack = '/content/drive/My Drive/Colab Notebooks/cvassignmentdataset/Cyclone_Wildfire_Flood_Earthquake_Database/Earthquake'\n",
        "\n",
        "# Copy 700-900 cyclone images to test_earthquack_dir\n",
        "fnames = ['{}.jpg'.format(i) for i in range(700, 900)]\n",
        "for fname in fnames:\n",
        "    src = os.path.join(original_dataset_dir_earthquack, fname)\n",
        "    dst = os.path.join(test_earthquack_dir, fname)\n",
        "    shutil.copyfile(src, dst)"
      ],
      "execution_count": 0,
      "outputs": []
    },
    {
      "cell_type": "code",
      "metadata": {
        "id": "M_VDrxxKgDxC",
        "colab_type": "code",
        "colab": {}
      },
      "source": [
        "original_dataset_dir_flood = '/content/drive/My Drive/Colab Notebooks/cvassignmentdataset/Cyclone_Wildfire_Flood_Earthquake_Database/Flood'\n",
        "\n",
        "# Copy first 1000 flood images to test_flood_dir\n",
        "fnames = ['{}.jpg'.format(i) for i in range(700,900)]\n",
        "for fname in fnames:\n",
        "    src = os.path.join(original_dataset_dir_flood, fname)\n",
        "    dst = os.path.join(test_flood_dir, fname)\n",
        "    shutil.copyfile(src, dst)"
      ],
      "execution_count": 0,
      "outputs": []
    },
    {
      "cell_type": "code",
      "metadata": {
        "id": "KgNjHS3SgM-s",
        "colab_type": "code",
        "colab": {}
      },
      "source": [
        "original_dataset_dir_wildfire = '/content/drive/My Drive/Colab Notebooks/cvassignmentdataset/Cyclone_Wildfire_Flood_Earthquake_Database/Wildfire'\n",
        "# Copy first 700-900 wildfire images to test_wildfire_dir\n",
        "fnames = ['{}.jpg'.format(i) for i in range(700, 900)]\n",
        "for fname in fnames:\n",
        "    src = os.path.join(original_dataset_dir_wildfire, fname)\n",
        "    dst = os.path.join(test_wildfire_dir, fname)\n",
        "    shutil.copyfile(src, dst)"
      ],
      "execution_count": 0,
      "outputs": []
    },
    {
      "cell_type": "markdown",
      "metadata": {
        "id": "ykNPj-1Sg0fZ",
        "colab_type": "text"
      },
      "source": [
        "Building ConvNet"
      ]
    },
    {
      "cell_type": "code",
      "metadata": {
        "id": "Yz58GF0Agz9w",
        "colab_type": "code",
        "colab": {
          "base_uri": "https://localhost:8080/",
          "height": 359
        },
        "outputId": "6d9d4461-ed62-4dd0-da9c-ec9be9cb4ce3"
      },
      "source": [
        "from keras import layers\n",
        "from keras import models\n",
        "from keras.layers import Dense, Dropout, Flatten\n",
        "model = models.Sequential()\n",
        "model.add(layers.Conv2D(32, (3, 3), activation='relu', input_shape=(150, 150, 3)))\n",
        "model.add(layers.MaxPooling2D((2, 2)))\n",
        "model.add(layers.Conv2D(64, (3, 3), activation='relu'))\n",
        "model.add(layers.MaxPooling2D((2, 2)))\n",
        "model.add(layers.Conv2D(128, (3, 3), activation='relu'))\n",
        "model.add(layers.MaxPooling2D((2, 2)))\n",
        "model.add(layers.Conv2D(128, (3, 3), activation='relu'))\n",
        "model.add(layers.MaxPooling2D((2, 2)))\n",
        "model.add(layers.Conv2D(512, (3, 3), activation='relu'))\n",
        "model.add(layers.MaxPooling2D((2, 2)))\n",
        "model.add(layers.Flatten())\n",
        "model.add(layers.Dense(512, activation='relu'))\n",
        "model.add(Dropout(0.3))\n",
        "model.add(layers.Dense(4, activation='softmax'))"
      ],
      "execution_count": 2,
      "outputs": [
        {
          "output_type": "stream",
          "text": [
            "Using TensorFlow backend.\n"
          ],
          "name": "stderr"
        },
        {
          "output_type": "display_data",
          "data": {
            "text/html": [
              "<p style=\"color: red;\">\n",
              "The default version of TensorFlow in Colab will soon switch to TensorFlow 2.x.<br>\n",
              "We recommend you <a href=\"https://www.tensorflow.org/guide/migrate\" target=\"_blank\">upgrade</a> now \n",
              "or ensure your notebook will continue to use TensorFlow 1.x via the <code>%tensorflow_version 1.x</code> magic:\n",
              "<a href=\"https://colab.research.google.com/notebooks/tensorflow_version.ipynb\" target=\"_blank\">more info</a>.</p>\n"
            ],
            "text/plain": [
              "<IPython.core.display.HTML object>"
            ]
          },
          "metadata": {
            "tags": []
          }
        },
        {
          "output_type": "stream",
          "text": [
            "WARNING:tensorflow:From /usr/local/lib/python3.6/dist-packages/keras/backend/tensorflow_backend.py:66: The name tf.get_default_graph is deprecated. Please use tf.compat.v1.get_default_graph instead.\n",
            "\n",
            "WARNING:tensorflow:From /usr/local/lib/python3.6/dist-packages/keras/backend/tensorflow_backend.py:541: The name tf.placeholder is deprecated. Please use tf.compat.v1.placeholder instead.\n",
            "\n",
            "WARNING:tensorflow:From /usr/local/lib/python3.6/dist-packages/keras/backend/tensorflow_backend.py:4432: The name tf.random_uniform is deprecated. Please use tf.random.uniform instead.\n",
            "\n",
            "WARNING:tensorflow:From /usr/local/lib/python3.6/dist-packages/keras/backend/tensorflow_backend.py:4267: The name tf.nn.max_pool is deprecated. Please use tf.nn.max_pool2d instead.\n",
            "\n",
            "WARNING:tensorflow:From /usr/local/lib/python3.6/dist-packages/keras/backend/tensorflow_backend.py:148: The name tf.placeholder_with_default is deprecated. Please use tf.compat.v1.placeholder_with_default instead.\n",
            "\n",
            "WARNING:tensorflow:From /usr/local/lib/python3.6/dist-packages/keras/backend/tensorflow_backend.py:3733: calling dropout (from tensorflow.python.ops.nn_ops) with keep_prob is deprecated and will be removed in a future version.\n",
            "Instructions for updating:\n",
            "Please use `rate` instead of `keep_prob`. Rate should be set to `rate = 1 - keep_prob`.\n"
          ],
          "name": "stdout"
        }
      ]
    },
    {
      "cell_type": "code",
      "metadata": {
        "id": "EiB62ByhjK8h",
        "colab_type": "code",
        "outputId": "62447cd6-0a0e-4161-a0d8-d8fb21e8324f",
        "colab": {
          "base_uri": "https://localhost:8080/",
          "height": 678
        }
      },
      "source": [
        "model.summary()"
      ],
      "execution_count": 3,
      "outputs": [
        {
          "output_type": "stream",
          "text": [
            "Model: \"sequential_1\"\n",
            "_________________________________________________________________\n",
            "Layer (type)                 Output Shape              Param #   \n",
            "=================================================================\n",
            "conv2d_1 (Conv2D)            (None, 148, 148, 32)      896       \n",
            "_________________________________________________________________\n",
            "max_pooling2d_1 (MaxPooling2 (None, 74, 74, 32)        0         \n",
            "_________________________________________________________________\n",
            "conv2d_2 (Conv2D)            (None, 72, 72, 64)        18496     \n",
            "_________________________________________________________________\n",
            "max_pooling2d_2 (MaxPooling2 (None, 36, 36, 64)        0         \n",
            "_________________________________________________________________\n",
            "conv2d_3 (Conv2D)            (None, 34, 34, 128)       73856     \n",
            "_________________________________________________________________\n",
            "max_pooling2d_3 (MaxPooling2 (None, 17, 17, 128)       0         \n",
            "_________________________________________________________________\n",
            "conv2d_4 (Conv2D)            (None, 15, 15, 128)       147584    \n",
            "_________________________________________________________________\n",
            "max_pooling2d_4 (MaxPooling2 (None, 7, 7, 128)         0         \n",
            "_________________________________________________________________\n",
            "conv2d_5 (Conv2D)            (None, 5, 5, 512)         590336    \n",
            "_________________________________________________________________\n",
            "max_pooling2d_5 (MaxPooling2 (None, 2, 2, 512)         0         \n",
            "_________________________________________________________________\n",
            "flatten_1 (Flatten)          (None, 2048)              0         \n",
            "_________________________________________________________________\n",
            "dense_1 (Dense)              (None, 512)               1049088   \n",
            "_________________________________________________________________\n",
            "dropout_1 (Dropout)          (None, 512)               0         \n",
            "_________________________________________________________________\n",
            "dense_2 (Dense)              (None, 4)                 2052      \n",
            "=================================================================\n",
            "Total params: 1,882,308\n",
            "Trainable params: 1,882,308\n",
            "Non-trainable params: 0\n",
            "_________________________________________________________________\n"
          ],
          "name": "stdout"
        }
      ]
    },
    {
      "cell_type": "code",
      "metadata": {
        "id": "Vf0UKOqKjiYJ",
        "colab_type": "code",
        "colab": {
          "base_uri": "https://localhost:8080/",
          "height": 110
        },
        "outputId": "a4b374a7-f7fe-41f1-c726-c4f6ce5bd56e"
      },
      "source": [
        "from keras import optimizers\n",
        "\n",
        "model.compile( loss= 'categorical_crossentropy',\n",
        "              optimizer= optimizers.rmsprop(),\n",
        "              metrics=['acc'])"
      ],
      "execution_count": 4,
      "outputs": [
        {
          "output_type": "stream",
          "text": [
            "WARNING:tensorflow:From /usr/local/lib/python3.6/dist-packages/keras/optimizers.py:793: The name tf.train.Optimizer is deprecated. Please use tf.compat.v1.train.Optimizer instead.\n",
            "\n",
            "WARNING:tensorflow:From /usr/local/lib/python3.6/dist-packages/keras/backend/tensorflow_backend.py:3576: The name tf.log is deprecated. Please use tf.math.log instead.\n",
            "\n"
          ],
          "name": "stdout"
        }
      ]
    },
    {
      "cell_type": "code",
      "metadata": {
        "id": "-YD3rJ33kMhh",
        "colab_type": "code",
        "outputId": "e7aecbf7-4cbe-485f-8f95-f9e633d15f30",
        "colab": {
          "base_uri": "https://localhost:8080/",
          "height": 246
        }
      },
      "source": [
        "from keras.preprocessing.image import ImageDataGenerator\n",
        "\n",
        "# All images will be rescaled by 1./255\n",
        "train_datagen = ImageDataGenerator(rescale=1./255)\n",
        "test_datagen = ImageDataGenerator(rescale=1./255)\n",
        "\n",
        "train_generator = train_datagen.flow_from_directory(\n",
        "        # This is the target directory\n",
        "        train_dir,\n",
        "        # All images will be resized to 150x150\n",
        "        target_size=(150, 150),\n",
        "        batch_size=20,\n",
        "        # Since we use binary_crossentropy loss, we need binary labels\n",
        "        class_mode= 'categorical')\n",
        "\n",
        "validation_generator = test_datagen.flow_from_directory(\n",
        "        validation_dir,\n",
        "        target_size=(150, 150),\n",
        "        batch_size=20,\n",
        "        class_mode='categorical')"
      ],
      "execution_count": 6,
      "outputs": [
        {
          "output_type": "error",
          "ename": "NameError",
          "evalue": "ignored",
          "traceback": [
            "\u001b[0;31m---------------------------------------------------------------------------\u001b[0m",
            "\u001b[0;31mNameError\u001b[0m                                 Traceback (most recent call last)",
            "\u001b[0;32m<ipython-input-6-3bfeae6d4458>\u001b[0m in \u001b[0;36m<module>\u001b[0;34m()\u001b[0m\n\u001b[1;32m      7\u001b[0m train_generator = train_datagen.flow_from_directory(\n\u001b[1;32m      8\u001b[0m         \u001b[0;31m# This is the target directory\u001b[0m\u001b[0;34m\u001b[0m\u001b[0;34m\u001b[0m\u001b[0;34m\u001b[0m\u001b[0m\n\u001b[0;32m----> 9\u001b[0;31m         \u001b[0mtrain_dir\u001b[0m\u001b[0;34m,\u001b[0m\u001b[0;34m\u001b[0m\u001b[0;34m\u001b[0m\u001b[0m\n\u001b[0m\u001b[1;32m     10\u001b[0m         \u001b[0;31m# All images will be resized to 150x150\u001b[0m\u001b[0;34m\u001b[0m\u001b[0;34m\u001b[0m\u001b[0;34m\u001b[0m\u001b[0m\n\u001b[1;32m     11\u001b[0m         \u001b[0mtarget_size\u001b[0m\u001b[0;34m=\u001b[0m\u001b[0;34m(\u001b[0m\u001b[0;36m150\u001b[0m\u001b[0;34m,\u001b[0m \u001b[0;36m150\u001b[0m\u001b[0;34m)\u001b[0m\u001b[0;34m,\u001b[0m\u001b[0;34m\u001b[0m\u001b[0;34m\u001b[0m\u001b[0m\n",
            "\u001b[0;31mNameError\u001b[0m: name 'train_dir' is not defined"
          ]
        }
      ]
    },
    {
      "cell_type": "code",
      "metadata": {
        "colab_type": "code",
        "outputId": "bb5914eb-9515-4a18-a592-004ae5f3a51c",
        "id": "_ewmCaussMJw",
        "colab": {
          "base_uri": "https://localhost:8080/",
          "height": 404
        }
      },
      "source": [
        "history = model.fit_generator(\n",
        "      train_generator,\n",
        "      steps_per_epoch=100,\n",
        "      epochs=10,\n",
        "\n",
        "      validation_data=validation_generator,\n",
        "      validation_steps=50)"
      ],
      "execution_count": 102,
      "outputs": [
        {
          "output_type": "stream",
          "text": [
            "Epoch 1/10\n",
            "100/100 [==============================] - 102s 1s/step - loss: 1.2621 - acc: 0.3885 - val_loss: 1.5534 - val_acc: 0.2910\n",
            "Epoch 2/10\n",
            "100/100 [==============================] - 87s 866ms/step - loss: 0.9969 - acc: 0.5790 - val_loss: 0.8484 - val_acc: 0.6690\n",
            "Epoch 3/10\n",
            "100/100 [==============================] - 86s 861ms/step - loss: 0.8605 - acc: 0.6690 - val_loss: 1.0954 - val_acc: 0.5750\n",
            "Epoch 4/10\n",
            "100/100 [==============================] - 87s 872ms/step - loss: 0.7220 - acc: 0.7290 - val_loss: 1.0338 - val_acc: 0.6140\n",
            "Epoch 5/10\n",
            "100/100 [==============================] - 88s 882ms/step - loss: 0.6467 - acc: 0.7565 - val_loss: 0.7539 - val_acc: 0.7430\n",
            "Epoch 6/10\n",
            "100/100 [==============================] - 84s 840ms/step - loss: 0.5837 - acc: 0.7885 - val_loss: 0.6767 - val_acc: 0.7390\n",
            "Epoch 7/10\n",
            "100/100 [==============================] - 87s 867ms/step - loss: 0.4989 - acc: 0.8195 - val_loss: 0.8223 - val_acc: 0.7510\n",
            "Epoch 8/10\n",
            "100/100 [==============================] - 85s 852ms/step - loss: 0.4767 - acc: 0.8335 - val_loss: 0.5812 - val_acc: 0.8170\n",
            "Epoch 9/10\n",
            "100/100 [==============================] - 88s 875ms/step - loss: 0.4213 - acc: 0.8610 - val_loss: 0.7676 - val_acc: 0.7750\n",
            "Epoch 10/10\n",
            "100/100 [==============================] - 84s 836ms/step - loss: 0.3776 - acc: 0.8795 - val_loss: 0.6122 - val_acc: 0.7920\n"
          ],
          "name": "stdout"
        }
      ]
    },
    {
      "cell_type": "code",
      "metadata": {
        "colab_type": "code",
        "id": "vhi7RLPvsKKg",
        "colab": {}
      },
      "source": [
        "model.save('Cyclone_Wildfire_Flood_Earthquake_Database.h5')"
      ],
      "execution_count": 0,
      "outputs": []
    },
    {
      "cell_type": "code",
      "metadata": {
        "colab_type": "code",
        "outputId": "764abcb2-db95-456d-c167-050eb8dd4adf",
        "id": "vdBbDmRtrnKQ",
        "colab": {
          "base_uri": "https://localhost:8080/",
          "height": 545
        }
      },
      "source": [
        "import matplotlib.pyplot as plt\n",
        "\n",
        "acc = history.history['acc']\n",
        "val_acc = history.history['val_acc']\n",
        "loss = history.history['loss']\n",
        "val_loss = history.history['val_loss']\n",
        "\n",
        "epochs = range(len(acc))\n",
        "\n",
        "plt.plot(epochs, acc, 'bo', label='Training acc')\n",
        "plt.plot(epochs, val_acc, 'b', label='Validation acc')\n",
        "plt.title('Training and validation accuracy')\n",
        "plt.legend()\n",
        "\n",
        "plt.figure()\n",
        "\n",
        "plt.plot(epochs, loss, 'bo', label='Training loss')\n",
        "plt.plot(epochs, val_loss, 'b', label='Validation loss')\n",
        "plt.title('Training and validation loss')\n",
        "plt.legend()\n",
        "\n",
        "plt.show()"
      ],
      "execution_count": 104,
      "outputs": [
        {
          "output_type": "display_data",
          "data": {
            "image/png": "[encoded data removed]",
            "text/plain": [
              "<Figure size 432x288 with 1 Axes>"
            ]
          },
          "metadata": {
            "tags": []
          }
        },
        {
          "output_type": "display_data",
          "data": {
            "image/png": "[encoded data removed]",
            "text/plain": [
              "<Figure size 432x288 with 1 Axes>"
            ]
          },
          "metadata": {
            "tags": []
          }
        }
      ]
    },
    {
      "cell_type": "markdown",
      "metadata": {
        "id": "_5aVuui_3pLz",
        "colab_type": "text"
      },
      "source": [
        "Confusion matrix"
      ]
    },
    {
      "cell_type": "code",
      "metadata": {
        "id": "v7qBvQy_71pg",
        "colab_type": "code",
        "colab": {
          "base_uri": "https://localhost:8080/",
          "height": 380
        },
        "outputId": "38bdd882-f28b-40e3-a194-28c2527e42c3"
      },
      "source": [
        "Y_pred = model.predict(test_dir)\n",
        "print(Y_pred)\n",
        "y_pred = np.argmax(Y_pred, axis=1)\n",
        "print(y_pred)"
      ],
      "execution_count": 18,
      "outputs": [
        {
          "output_type": "error",
          "ename": "AttributeError",
          "evalue": "ignored",
          "traceback": [
            "\u001b[0;31m---------------------------------------------------------------------------\u001b[0m",
            "\u001b[0;31mAttributeError\u001b[0m                            Traceback (most recent call last)",
            "\u001b[0;32m<ipython-input-18-313536fa5f4d>\u001b[0m in \u001b[0;36m<module>\u001b[0;34m()\u001b[0m\n\u001b[0;32m----> 1\u001b[0;31m \u001b[0mY_pred\u001b[0m \u001b[0;34m=\u001b[0m \u001b[0mmodel\u001b[0m\u001b[0;34m.\u001b[0m\u001b[0mpredict\u001b[0m\u001b[0;34m(\u001b[0m\u001b[0mtest_dir\u001b[0m\u001b[0;34m)\u001b[0m\u001b[0;34m\u001b[0m\u001b[0;34m\u001b[0m\u001b[0m\n\u001b[0m\u001b[1;32m      2\u001b[0m \u001b[0mprint\u001b[0m\u001b[0;34m(\u001b[0m\u001b[0mY_pred\u001b[0m\u001b[0;34m)\u001b[0m\u001b[0;34m\u001b[0m\u001b[0;34m\u001b[0m\u001b[0m\n\u001b[1;32m      3\u001b[0m \u001b[0my_pred\u001b[0m \u001b[0;34m=\u001b[0m \u001b[0mnp\u001b[0m\u001b[0;34m.\u001b[0m\u001b[0margmax\u001b[0m\u001b[0;34m(\u001b[0m\u001b[0mY_pred\u001b[0m\u001b[0;34m,\u001b[0m \u001b[0maxis\u001b[0m\u001b[0;34m=\u001b[0m\u001b[0;36m1\u001b[0m\u001b[0;34m)\u001b[0m\u001b[0;34m\u001b[0m\u001b[0;34m\u001b[0m\u001b[0m\n\u001b[1;32m      4\u001b[0m \u001b[0mprint\u001b[0m\u001b[0;34m(\u001b[0m\u001b[0my_pred\u001b[0m\u001b[0;34m)\u001b[0m\u001b[0;34m\u001b[0m\u001b[0;34m\u001b[0m\u001b[0m\n",
            "\u001b[0;32m/usr/local/lib/python3.6/dist-packages/keras/engine/training.py\u001b[0m in \u001b[0;36mpredict\u001b[0;34m(self, x, batch_size, verbose, steps, callbacks, max_queue_size, workers, use_multiprocessing)\u001b[0m\n\u001b[1;32m   1378\u001b[0m \u001b[0;34m\u001b[0m\u001b[0m\n\u001b[1;32m   1379\u001b[0m         \u001b[0;31m# Case 2: Symbolic tensors or Numpy array-like.\u001b[0m\u001b[0;34m\u001b[0m\u001b[0;34m\u001b[0m\u001b[0;34m\u001b[0m\u001b[0m\n\u001b[0;32m-> 1380\u001b[0;31m         \u001b[0mx\u001b[0m\u001b[0;34m,\u001b[0m \u001b[0m_\u001b[0m\u001b[0;34m,\u001b[0m \u001b[0m_\u001b[0m \u001b[0;34m=\u001b[0m \u001b[0mself\u001b[0m\u001b[0;34m.\u001b[0m\u001b[0m_standardize_user_data\u001b[0m\u001b[0;34m(\u001b[0m\u001b[0mx\u001b[0m\u001b[0;34m)\u001b[0m\u001b[0;34m\u001b[0m\u001b[0;34m\u001b[0m\u001b[0m\n\u001b[0m\u001b[1;32m   1381\u001b[0m         \u001b[0;32mif\u001b[0m \u001b[0mself\u001b[0m\u001b[0;34m.\u001b[0m\u001b[0mstateful\u001b[0m\u001b[0;34m:\u001b[0m\u001b[0;34m\u001b[0m\u001b[0;34m\u001b[0m\u001b[0m\n\u001b[1;32m   1382\u001b[0m             \u001b[0;32mif\u001b[0m \u001b[0mx\u001b[0m\u001b[0;34m[\u001b[0m\u001b[0;36m0\u001b[0m\u001b[0;34m]\u001b[0m\u001b[0;34m.\u001b[0m\u001b[0mshape\u001b[0m\u001b[0;34m[\u001b[0m\u001b[0;36m0\u001b[0m\u001b[0;34m]\u001b[0m \u001b[0;34m>\u001b[0m \u001b[0mbatch_size\u001b[0m \u001b[0;32mand\u001b[0m \u001b[0mx\u001b[0m\u001b[0;34m[\u001b[0m\u001b[0;36m0\u001b[0m\u001b[0;34m]\u001b[0m\u001b[0;34m.\u001b[0m\u001b[0mshape\u001b[0m\u001b[0;34m[\u001b[0m\u001b[0;36m0\u001b[0m\u001b[0;34m]\u001b[0m \u001b[0;34m%\u001b[0m \u001b[0mbatch_size\u001b[0m \u001b[0;34m!=\u001b[0m \u001b[0;36m0\u001b[0m\u001b[0;34m:\u001b[0m\u001b[0;34m\u001b[0m\u001b[0;34m\u001b[0m\u001b[0m\n",
            "\u001b[0;32m/usr/local/lib/python3.6/dist-packages/keras/engine/training.py\u001b[0m in \u001b[0;36m_standardize_user_data\u001b[0;34m(self, x, y, sample_weight, class_weight, check_array_lengths, batch_size)\u001b[0m\n\u001b[1;32m    755\u001b[0m             \u001b[0mfeed_input_shapes\u001b[0m\u001b[0;34m,\u001b[0m\u001b[0;34m\u001b[0m\u001b[0;34m\u001b[0m\u001b[0m\n\u001b[1;32m    756\u001b[0m             \u001b[0mcheck_batch_axis\u001b[0m\u001b[0;34m=\u001b[0m\u001b[0;32mFalse\u001b[0m\u001b[0;34m,\u001b[0m  \u001b[0;31m# Don't enforce the batch size.\u001b[0m\u001b[0;34m\u001b[0m\u001b[0;34m\u001b[0m\u001b[0m\n\u001b[0;32m--> 757\u001b[0;31m             exception_prefix='input')\n\u001b[0m\u001b[1;32m    758\u001b[0m \u001b[0;34m\u001b[0m\u001b[0m\n\u001b[1;32m    759\u001b[0m         \u001b[0;32mif\u001b[0m \u001b[0my\u001b[0m \u001b[0;32mis\u001b[0m \u001b[0;32mnot\u001b[0m \u001b[0;32mNone\u001b[0m\u001b[0;34m:\u001b[0m\u001b[0;34m\u001b[0m\u001b[0;34m\u001b[0m\u001b[0m\n",
            "\u001b[0;32m/usr/local/lib/python3.6/dist-packages/keras/engine/training_utils.py\u001b[0m in \u001b[0;36mstandardize_input_data\u001b[0;34m(data, names, shapes, check_batch_axis, exception_prefix)\u001b[0m\n\u001b[1;32m     93\u001b[0m         \u001b[0mdata\u001b[0m \u001b[0;34m=\u001b[0m \u001b[0mdata\u001b[0m\u001b[0;34m.\u001b[0m\u001b[0mvalues\u001b[0m \u001b[0;32mif\u001b[0m \u001b[0mdata\u001b[0m\u001b[0;34m.\u001b[0m\u001b[0m__class__\u001b[0m\u001b[0;34m.\u001b[0m\u001b[0m__name__\u001b[0m \u001b[0;34m==\u001b[0m \u001b[0;34m'DataFrame'\u001b[0m \u001b[0;32melse\u001b[0m \u001b[0mdata\u001b[0m\u001b[0;34m\u001b[0m\u001b[0;34m\u001b[0m\u001b[0m\n\u001b[1;32m     94\u001b[0m         \u001b[0mdata\u001b[0m \u001b[0;34m=\u001b[0m \u001b[0;34m[\u001b[0m\u001b[0mdata\u001b[0m\u001b[0;34m]\u001b[0m\u001b[0;34m\u001b[0m\u001b[0;34m\u001b[0m\u001b[0m\n\u001b[0;32m---> 95\u001b[0;31m     \u001b[0mdata\u001b[0m \u001b[0;34m=\u001b[0m \u001b[0;34m[\u001b[0m\u001b[0mstandardize_single_array\u001b[0m\u001b[0;34m(\u001b[0m\u001b[0mx\u001b[0m\u001b[0;34m)\u001b[0m \u001b[0;32mfor\u001b[0m \u001b[0mx\u001b[0m \u001b[0;32min\u001b[0m \u001b[0mdata\u001b[0m\u001b[0;34m]\u001b[0m\u001b[0;34m\u001b[0m\u001b[0;34m\u001b[0m\u001b[0m\n\u001b[0m\u001b[1;32m     96\u001b[0m \u001b[0;34m\u001b[0m\u001b[0m\n\u001b[1;32m     97\u001b[0m     \u001b[0;32mif\u001b[0m \u001b[0mlen\u001b[0m\u001b[0;34m(\u001b[0m\u001b[0mdata\u001b[0m\u001b[0;34m)\u001b[0m \u001b[0;34m!=\u001b[0m \u001b[0mlen\u001b[0m\u001b[0;34m(\u001b[0m\u001b[0mnames\u001b[0m\u001b[0;34m)\u001b[0m\u001b[0;34m:\u001b[0m\u001b[0;34m\u001b[0m\u001b[0;34m\u001b[0m\u001b[0m\n",
            "\u001b[0;32m/usr/local/lib/python3.6/dist-packages/keras/engine/training_utils.py\u001b[0m in \u001b[0;36m<listcomp>\u001b[0;34m(.0)\u001b[0m\n\u001b[1;32m     93\u001b[0m         \u001b[0mdata\u001b[0m \u001b[0;34m=\u001b[0m \u001b[0mdata\u001b[0m\u001b[0;34m.\u001b[0m\u001b[0mvalues\u001b[0m \u001b[0;32mif\u001b[0m \u001b[0mdata\u001b[0m\u001b[0;34m.\u001b[0m\u001b[0m__class__\u001b[0m\u001b[0;34m.\u001b[0m\u001b[0m__name__\u001b[0m \u001b[0;34m==\u001b[0m \u001b[0;34m'DataFrame'\u001b[0m \u001b[0;32melse\u001b[0m \u001b[0mdata\u001b[0m\u001b[0;34m\u001b[0m\u001b[0;34m\u001b[0m\u001b[0m\n\u001b[1;32m     94\u001b[0m         \u001b[0mdata\u001b[0m \u001b[0;34m=\u001b[0m \u001b[0;34m[\u001b[0m\u001b[0mdata\u001b[0m\u001b[0;34m]\u001b[0m\u001b[0;34m\u001b[0m\u001b[0;34m\u001b[0m\u001b[0m\n\u001b[0;32m---> 95\u001b[0;31m     \u001b[0mdata\u001b[0m \u001b[0;34m=\u001b[0m \u001b[0;34m[\u001b[0m\u001b[0mstandardize_single_array\u001b[0m\u001b[0;34m(\u001b[0m\u001b[0mx\u001b[0m\u001b[0;34m)\u001b[0m \u001b[0;32mfor\u001b[0m \u001b[0mx\u001b[0m \u001b[0;32min\u001b[0m \u001b[0mdata\u001b[0m\u001b[0;34m]\u001b[0m\u001b[0;34m\u001b[0m\u001b[0;34m\u001b[0m\u001b[0m\n\u001b[0m\u001b[1;32m     96\u001b[0m \u001b[0;34m\u001b[0m\u001b[0m\n\u001b[1;32m     97\u001b[0m     \u001b[0;32mif\u001b[0m \u001b[0mlen\u001b[0m\u001b[0;34m(\u001b[0m\u001b[0mdata\u001b[0m\u001b[0;34m)\u001b[0m \u001b[0;34m!=\u001b[0m \u001b[0mlen\u001b[0m\u001b[0;34m(\u001b[0m\u001b[0mnames\u001b[0m\u001b[0;34m)\u001b[0m\u001b[0;34m:\u001b[0m\u001b[0;34m\u001b[0m\u001b[0;34m\u001b[0m\u001b[0m\n",
            "\u001b[0;32m/usr/local/lib/python3.6/dist-packages/keras/engine/training_utils.py\u001b[0m in \u001b[0;36mstandardize_single_array\u001b[0;34m(x)\u001b[0m\n\u001b[1;32m     28\u001b[0m                 'Got tensor with shape: %s' % str(shape))\n\u001b[1;32m     29\u001b[0m         \u001b[0;32mreturn\u001b[0m \u001b[0mx\u001b[0m\u001b[0;34m\u001b[0m\u001b[0;34m\u001b[0m\u001b[0m\n\u001b[0;32m---> 30\u001b[0;31m     \u001b[0;32melif\u001b[0m \u001b[0mx\u001b[0m\u001b[0;34m.\u001b[0m\u001b[0mndim\u001b[0m \u001b[0;34m==\u001b[0m \u001b[0;36m1\u001b[0m\u001b[0;34m:\u001b[0m\u001b[0;34m\u001b[0m\u001b[0;34m\u001b[0m\u001b[0m\n\u001b[0m\u001b[1;32m     31\u001b[0m         \u001b[0mx\u001b[0m \u001b[0;34m=\u001b[0m \u001b[0mnp\u001b[0m\u001b[0;34m.\u001b[0m\u001b[0mexpand_dims\u001b[0m\u001b[0;34m(\u001b[0m\u001b[0mx\u001b[0m\u001b[0;34m,\u001b[0m \u001b[0;36m1\u001b[0m\u001b[0;34m)\u001b[0m\u001b[0;34m\u001b[0m\u001b[0;34m\u001b[0m\u001b[0m\n\u001b[1;32m     32\u001b[0m     \u001b[0;32mreturn\u001b[0m \u001b[0mx\u001b[0m\u001b[0;34m\u001b[0m\u001b[0;34m\u001b[0m\u001b[0m\n",
            "\u001b[0;31mAttributeError\u001b[0m: 'str' object has no attribute 'ndim'"
          ]
        }
      ]
    }
  ]
}